{
 "cells": [
  {
   "cell_type": "code",
   "execution_count": 1,
   "metadata": {},
   "outputs": [],
   "source": [
    "import pandas as pd\n",
    "import numpy as np\n",
    "from pandas_profiling import ProfileReport\n",
    "import datetime\n",
    "import plotly.express as px\n",
    "import plotly.figure_factory as ff\n",
    "import plotly.graph_objs as go\n",
    "import matplotlib.pyplot as plt\n",
    "import seaborn as sns"
   ]
  },
  {
   "cell_type": "code",
   "execution_count": 2,
   "metadata": {},
   "outputs": [
    {
     "data": {
      "text/plain": "                                          SACC code(a)  \\\n0                                                 1101   \n1                                                 1102   \n2                                                 1199   \n3                                                 1201   \n4                                                 1301   \n..                                                 ...   \n253  (a) Country of citizenship classification and ...   \n254  Standard Australian Classification of Countrie...   \n255  (b) To confidentialise, estimates have been ro...   \n256                                                NaN   \n257                   © Commonwealth of Australia 2021   \n\n               Country of citizenship(a)  2016-09-01 00:00:00  \\\n0                              Australia             866140.0   \n1                         Norfolk Island                  0.0   \n2    Australian External Territories nec                  0.0   \n3                            New Zealand             155740.0   \n4                          New Caledonia                  0.0   \n..                                   ...                  ...   \n253                                  NaN                  NaN   \n254                                  NaN                  NaN   \n255                                  NaN                  NaN   \n256                                  NaN                  NaN   \n257                                  NaN                  NaN   \n\n     2016-10-01 00:00:00  2016-11-01 00:00:00  2016-12-01 00:00:00  \\\n0               701180.0             655800.0             956990.0   \n1                    0.0                  0.0                  0.0   \n2                    0.0                  0.0                  0.0   \n3               186450.0             150930.0             179880.0   \n4                    0.0                  0.0                  0.0   \n..                   ...                  ...                  ...   \n253                  NaN                  NaN                  NaN   \n254                  NaN                  NaN                  NaN   \n255                  NaN                  NaN                  NaN   \n256                  NaN                  NaN                  NaN   \n257                  NaN                  NaN                  NaN   \n\n     2017-01-01 00:00:00  2017-02-01 00:00:00  2017-03-01 00:00:00  \\\n0               732790.0             540330.0             665680.0   \n1                    0.0                  0.0                  0.0   \n2                    0.0                  0.0                  0.0   \n3               164000.0             122510.0             143840.0   \n4                    0.0                  0.0                  0.0   \n..                   ...                  ...                  ...   \n253                  NaN                  NaN                  NaN   \n254                  NaN                  NaN                  NaN   \n255                  NaN                  NaN                  NaN   \n256                  NaN                  NaN                  NaN   \n257                  NaN                  NaN                  NaN   \n\n     2017-04-01 00:00:00  ...  2020-09-01 00:00:00  2020-10-01 00:00:00  \\\n0               809460.0  ...              11740.0              11860.0   \n1                    0.0  ...                  0.0                  0.0   \n2                    0.0  ...                  0.0                  0.0   \n3               163170.0  ...               3410.0               3330.0   \n4                    0.0  ...                  0.0                  0.0   \n..                   ...  ...                  ...                  ...   \n253                  NaN  ...                  NaN                  NaN   \n254                  NaN  ...                  NaN                  NaN   \n255                  NaN  ...                  NaN                  NaN   \n256                  NaN  ...                  NaN                  NaN   \n257                  NaN  ...                  NaN                  NaN   \n\n     2020-11-01 00:00:00  2020-12-01 00:00:00  2021-01-01 00:00:00  \\\n0                10950.0              12090.0              12610.0   \n1                    0.0                  0.0                  0.0   \n2                    0.0                  0.0                  0.0   \n3                 3400.0               3990.0               3440.0   \n4                    0.0                  0.0                  0.0   \n..                   ...                  ...                  ...   \n253                  NaN                  NaN                  NaN   \n254                  NaN                  NaN                  NaN   \n255                  NaN                  NaN                  NaN   \n256                  NaN                  NaN                  NaN   \n257                  NaN                  NaN                  NaN   \n\n     2021-02-01 00:00:00  2021-03-01 00:00:00  2021-04-01 00:00:00  \\\n0                 9270.0               9890.0              23990.0   \n1                    0.0                  0.0                  0.0   \n2                    0.0                  0.0                  0.0   \n3                 3220.0               3250.0              23900.0   \n4                    0.0                  0.0                  0.0   \n..                   ...                  ...                  ...   \n253                  NaN                  NaN                  NaN   \n254                  NaN                  NaN                  NaN   \n255                  NaN                  NaN                  NaN   \n256                  NaN                  NaN                  NaN   \n257                  NaN                  NaN                  NaN   \n\n     2021-05-01 00:00:00  2021-06-01 00:00:00  \n0                41350.0              40140.0  \n1                    0.0                  0.0  \n2                    0.0                  0.0  \n3                48540.0              39670.0  \n4                    0.0                  0.0  \n..                   ...                  ...  \n253                  NaN                  NaN  \n254                  NaN                  NaN  \n255                  NaN                  NaN  \n256                  NaN                  NaN  \n257                  NaN                  NaN  \n\n[258 rows x 60 columns]",
      "text/html": "<div>\n<style scoped>\n    .dataframe tbody tr th:only-of-type {\n        vertical-align: middle;\n    }\n\n    .dataframe tbody tr th {\n        vertical-align: top;\n    }\n\n    .dataframe thead th {\n        text-align: right;\n    }\n</style>\n<table border=\"1\" class=\"dataframe\">\n  <thead>\n    <tr style=\"text-align: right;\">\n      <th></th>\n      <th>SACC code(a)</th>\n      <th>Country of citizenship(a)</th>\n      <th>2016-09-01 00:00:00</th>\n      <th>2016-10-01 00:00:00</th>\n      <th>2016-11-01 00:00:00</th>\n      <th>2016-12-01 00:00:00</th>\n      <th>2017-01-01 00:00:00</th>\n      <th>2017-02-01 00:00:00</th>\n      <th>2017-03-01 00:00:00</th>\n      <th>2017-04-01 00:00:00</th>\n      <th>...</th>\n      <th>2020-09-01 00:00:00</th>\n      <th>2020-10-01 00:00:00</th>\n      <th>2020-11-01 00:00:00</th>\n      <th>2020-12-01 00:00:00</th>\n      <th>2021-01-01 00:00:00</th>\n      <th>2021-02-01 00:00:00</th>\n      <th>2021-03-01 00:00:00</th>\n      <th>2021-04-01 00:00:00</th>\n      <th>2021-05-01 00:00:00</th>\n      <th>2021-06-01 00:00:00</th>\n    </tr>\n  </thead>\n  <tbody>\n    <tr>\n      <th>0</th>\n      <td>1101</td>\n      <td>Australia</td>\n      <td>866140.0</td>\n      <td>701180.0</td>\n      <td>655800.0</td>\n      <td>956990.0</td>\n      <td>732790.0</td>\n      <td>540330.0</td>\n      <td>665680.0</td>\n      <td>809460.0</td>\n      <td>...</td>\n      <td>11740.0</td>\n      <td>11860.0</td>\n      <td>10950.0</td>\n      <td>12090.0</td>\n      <td>12610.0</td>\n      <td>9270.0</td>\n      <td>9890.0</td>\n      <td>23990.0</td>\n      <td>41350.0</td>\n      <td>40140.0</td>\n    </tr>\n    <tr>\n      <th>1</th>\n      <td>1102</td>\n      <td>Norfolk Island</td>\n      <td>0.0</td>\n      <td>0.0</td>\n      <td>0.0</td>\n      <td>0.0</td>\n      <td>0.0</td>\n      <td>0.0</td>\n      <td>0.0</td>\n      <td>0.0</td>\n      <td>...</td>\n      <td>0.0</td>\n      <td>0.0</td>\n      <td>0.0</td>\n      <td>0.0</td>\n      <td>0.0</td>\n      <td>0.0</td>\n      <td>0.0</td>\n      <td>0.0</td>\n      <td>0.0</td>\n      <td>0.0</td>\n    </tr>\n    <tr>\n      <th>2</th>\n      <td>1199</td>\n      <td>Australian External Territories nec</td>\n      <td>0.0</td>\n      <td>0.0</td>\n      <td>0.0</td>\n      <td>0.0</td>\n      <td>0.0</td>\n      <td>0.0</td>\n      <td>0.0</td>\n      <td>0.0</td>\n      <td>...</td>\n      <td>0.0</td>\n      <td>0.0</td>\n      <td>0.0</td>\n      <td>0.0</td>\n      <td>0.0</td>\n      <td>0.0</td>\n      <td>0.0</td>\n      <td>0.0</td>\n      <td>0.0</td>\n      <td>0.0</td>\n    </tr>\n    <tr>\n      <th>3</th>\n      <td>1201</td>\n      <td>New Zealand</td>\n      <td>155740.0</td>\n      <td>186450.0</td>\n      <td>150930.0</td>\n      <td>179880.0</td>\n      <td>164000.0</td>\n      <td>122510.0</td>\n      <td>143840.0</td>\n      <td>163170.0</td>\n      <td>...</td>\n      <td>3410.0</td>\n      <td>3330.0</td>\n      <td>3400.0</td>\n      <td>3990.0</td>\n      <td>3440.0</td>\n      <td>3220.0</td>\n      <td>3250.0</td>\n      <td>23900.0</td>\n      <td>48540.0</td>\n      <td>39670.0</td>\n    </tr>\n    <tr>\n      <th>4</th>\n      <td>1301</td>\n      <td>New Caledonia</td>\n      <td>0.0</td>\n      <td>0.0</td>\n      <td>0.0</td>\n      <td>0.0</td>\n      <td>0.0</td>\n      <td>0.0</td>\n      <td>0.0</td>\n      <td>0.0</td>\n      <td>...</td>\n      <td>0.0</td>\n      <td>0.0</td>\n      <td>0.0</td>\n      <td>0.0</td>\n      <td>0.0</td>\n      <td>0.0</td>\n      <td>0.0</td>\n      <td>0.0</td>\n      <td>0.0</td>\n      <td>0.0</td>\n    </tr>\n    <tr>\n      <th>...</th>\n      <td>...</td>\n      <td>...</td>\n      <td>...</td>\n      <td>...</td>\n      <td>...</td>\n      <td>...</td>\n      <td>...</td>\n      <td>...</td>\n      <td>...</td>\n      <td>...</td>\n      <td>...</td>\n      <td>...</td>\n      <td>...</td>\n      <td>...</td>\n      <td>...</td>\n      <td>...</td>\n      <td>...</td>\n      <td>...</td>\n      <td>...</td>\n      <td>...</td>\n      <td>...</td>\n    </tr>\n    <tr>\n      <th>253</th>\n      <td>(a) Country of citizenship classification and ...</td>\n      <td>NaN</td>\n      <td>NaN</td>\n      <td>NaN</td>\n      <td>NaN</td>\n      <td>NaN</td>\n      <td>NaN</td>\n      <td>NaN</td>\n      <td>NaN</td>\n      <td>NaN</td>\n      <td>...</td>\n      <td>NaN</td>\n      <td>NaN</td>\n      <td>NaN</td>\n      <td>NaN</td>\n      <td>NaN</td>\n      <td>NaN</td>\n      <td>NaN</td>\n      <td>NaN</td>\n      <td>NaN</td>\n      <td>NaN</td>\n    </tr>\n    <tr>\n      <th>254</th>\n      <td>Standard Australian Classification of Countrie...</td>\n      <td>NaN</td>\n      <td>NaN</td>\n      <td>NaN</td>\n      <td>NaN</td>\n      <td>NaN</td>\n      <td>NaN</td>\n      <td>NaN</td>\n      <td>NaN</td>\n      <td>NaN</td>\n      <td>...</td>\n      <td>NaN</td>\n      <td>NaN</td>\n      <td>NaN</td>\n      <td>NaN</td>\n      <td>NaN</td>\n      <td>NaN</td>\n      <td>NaN</td>\n      <td>NaN</td>\n      <td>NaN</td>\n      <td>NaN</td>\n    </tr>\n    <tr>\n      <th>255</th>\n      <td>(b) To confidentialise, estimates have been ro...</td>\n      <td>NaN</td>\n      <td>NaN</td>\n      <td>NaN</td>\n      <td>NaN</td>\n      <td>NaN</td>\n      <td>NaN</td>\n      <td>NaN</td>\n      <td>NaN</td>\n      <td>NaN</td>\n      <td>...</td>\n      <td>NaN</td>\n      <td>NaN</td>\n      <td>NaN</td>\n      <td>NaN</td>\n      <td>NaN</td>\n      <td>NaN</td>\n      <td>NaN</td>\n      <td>NaN</td>\n      <td>NaN</td>\n      <td>NaN</td>\n    </tr>\n    <tr>\n      <th>256</th>\n      <td>NaN</td>\n      <td>NaN</td>\n      <td>NaN</td>\n      <td>NaN</td>\n      <td>NaN</td>\n      <td>NaN</td>\n      <td>NaN</td>\n      <td>NaN</td>\n      <td>NaN</td>\n      <td>NaN</td>\n      <td>...</td>\n      <td>NaN</td>\n      <td>NaN</td>\n      <td>NaN</td>\n      <td>NaN</td>\n      <td>NaN</td>\n      <td>NaN</td>\n      <td>NaN</td>\n      <td>NaN</td>\n      <td>NaN</td>\n      <td>NaN</td>\n    </tr>\n    <tr>\n      <th>257</th>\n      <td>© Commonwealth of Australia 2021</td>\n      <td>NaN</td>\n      <td>NaN</td>\n      <td>NaN</td>\n      <td>NaN</td>\n      <td>NaN</td>\n      <td>NaN</td>\n      <td>NaN</td>\n      <td>NaN</td>\n      <td>NaN</td>\n      <td>...</td>\n      <td>NaN</td>\n      <td>NaN</td>\n      <td>NaN</td>\n      <td>NaN</td>\n      <td>NaN</td>\n      <td>NaN</td>\n      <td>NaN</td>\n      <td>NaN</td>\n      <td>NaN</td>\n      <td>NaN</td>\n    </tr>\n  </tbody>\n</table>\n<p>258 rows × 60 columns</p>\n</div>"
     },
     "execution_count": 2,
     "metadata": {},
     "output_type": "execute_result"
    }
   ],
   "source": [
    "ds_2=pd.read_excel('3401055004_OTSP_CountryofCitizenship_Jun21.xlsx', sheet_name='Table 1.2', header=[7])\n",
    "ds_2"
   ]
  },
  {
   "cell_type": "code",
   "execution_count": 3,
   "metadata": {},
   "outputs": [
    {
     "data": {
      "text/plain": "    SACC code(a)            Country of citizenship(a)  2016-09-01 00:00:00  \\\n0           1101                            Australia             866140.0   \n1           1102                       Norfolk Island                  0.0   \n2           1199  Australian External Territories nec                  0.0   \n3           1201                          New Zealand             155740.0   \n4           1301                        New Caledonia                  0.0   \n..           ...                                  ...                  ...   \n245         9228                               Uganda                 80.0   \n246         9231                               Zambia                110.0   \n247         9232                             Zimbabwe                420.0   \n248         9299                       S & E Afr, nec                  0.0   \n249         0000               Inadequately Described               1340.0   \n\n     2016-10-01 00:00:00  2016-11-01 00:00:00  2016-12-01 00:00:00  \\\n0               701180.0             655800.0             956990.0   \n1                    0.0                  0.0                  0.0   \n2                    0.0                  0.0                  0.0   \n3               186450.0             150930.0             179880.0   \n4                    0.0                  0.0                  0.0   \n..                   ...                  ...                  ...   \n245                 70.0                 70.0                150.0   \n246                 80.0                110.0                160.0   \n247                370.0                510.0                830.0   \n248                  0.0                  0.0                  0.0   \n249               4440.0               1750.0                650.0   \n\n     2017-01-01 00:00:00  2017-02-01 00:00:00  2017-03-01 00:00:00  \\\n0               732790.0             540330.0             665680.0   \n1                    0.0                  0.0                  0.0   \n2                    0.0                  0.0                  0.0   \n3               164000.0             122510.0             143840.0   \n4                    0.0                  0.0                  0.0   \n..                   ...                  ...                  ...   \n245                 70.0                 30.0                 50.0   \n246                110.0                100.0                110.0   \n247                610.0                370.0                360.0   \n248                  0.0                  0.0                  0.0   \n249                240.0                470.0               1190.0   \n\n     2017-04-01 00:00:00  ...  2020-09-01 00:00:00  2020-10-01 00:00:00  \\\n0               809460.0  ...              11740.0              11860.0   \n1                    0.0  ...                  0.0                  0.0   \n2                    0.0  ...                  0.0                  0.0   \n3               163170.0  ...               3410.0               3330.0   \n4                    0.0  ...                  0.0                  0.0   \n..                   ...  ...                  ...                  ...   \n245                 60.0  ...                  0.0                 10.0   \n246                 80.0  ...                 20.0                 10.0   \n247                530.0  ...                 50.0                 50.0   \n248                  0.0  ...                  0.0                  0.0   \n249               1440.0  ...                270.0               1050.0   \n\n     2020-11-01 00:00:00  2020-12-01 00:00:00  2021-01-01 00:00:00  \\\n0                10950.0              12090.0              12610.0   \n1                    0.0                  0.0                  0.0   \n2                    0.0                  0.0                  0.0   \n3                 3400.0               3990.0               3440.0   \n4                    0.0                  0.0                  0.0   \n..                   ...                  ...                  ...   \n245                 10.0                 20.0                  0.0   \n246                 20.0                 20.0                  0.0   \n247                 70.0                 60.0                 30.0   \n248                  0.0                  0.0                  0.0   \n249                100.0                420.0                120.0   \n\n     2021-02-01 00:00:00  2021-03-01 00:00:00  2021-04-01 00:00:00  \\\n0                 9270.0               9890.0              23990.0   \n1                    0.0                  0.0                  0.0   \n2                    0.0                  0.0                  0.0   \n3                 3220.0               3250.0              23900.0   \n4                    0.0                  0.0                  0.0   \n..                   ...                  ...                  ...   \n245                 10.0                  0.0                 10.0   \n246                 10.0                  0.0                  0.0   \n247                 20.0                 20.0                 20.0   \n248                  0.0                  0.0                  0.0   \n249                100.0                 90.0                290.0   \n\n     2021-05-01 00:00:00  2021-06-01 00:00:00  \n0                41350.0              40140.0  \n1                    0.0                  0.0  \n2                    0.0                  0.0  \n3                48540.0              39670.0  \n4                    0.0                  0.0  \n..                   ...                  ...  \n245                 10.0                  0.0  \n246                  0.0                  0.0  \n247                 10.0                 20.0  \n248                  0.0                  0.0  \n249                130.0                200.0  \n\n[250 rows x 60 columns]",
      "text/html": "<div>\n<style scoped>\n    .dataframe tbody tr th:only-of-type {\n        vertical-align: middle;\n    }\n\n    .dataframe tbody tr th {\n        vertical-align: top;\n    }\n\n    .dataframe thead th {\n        text-align: right;\n    }\n</style>\n<table border=\"1\" class=\"dataframe\">\n  <thead>\n    <tr style=\"text-align: right;\">\n      <th></th>\n      <th>SACC code(a)</th>\n      <th>Country of citizenship(a)</th>\n      <th>2016-09-01 00:00:00</th>\n      <th>2016-10-01 00:00:00</th>\n      <th>2016-11-01 00:00:00</th>\n      <th>2016-12-01 00:00:00</th>\n      <th>2017-01-01 00:00:00</th>\n      <th>2017-02-01 00:00:00</th>\n      <th>2017-03-01 00:00:00</th>\n      <th>2017-04-01 00:00:00</th>\n      <th>...</th>\n      <th>2020-09-01 00:00:00</th>\n      <th>2020-10-01 00:00:00</th>\n      <th>2020-11-01 00:00:00</th>\n      <th>2020-12-01 00:00:00</th>\n      <th>2021-01-01 00:00:00</th>\n      <th>2021-02-01 00:00:00</th>\n      <th>2021-03-01 00:00:00</th>\n      <th>2021-04-01 00:00:00</th>\n      <th>2021-05-01 00:00:00</th>\n      <th>2021-06-01 00:00:00</th>\n    </tr>\n  </thead>\n  <tbody>\n    <tr>\n      <th>0</th>\n      <td>1101</td>\n      <td>Australia</td>\n      <td>866140.0</td>\n      <td>701180.0</td>\n      <td>655800.0</td>\n      <td>956990.0</td>\n      <td>732790.0</td>\n      <td>540330.0</td>\n      <td>665680.0</td>\n      <td>809460.0</td>\n      <td>...</td>\n      <td>11740.0</td>\n      <td>11860.0</td>\n      <td>10950.0</td>\n      <td>12090.0</td>\n      <td>12610.0</td>\n      <td>9270.0</td>\n      <td>9890.0</td>\n      <td>23990.0</td>\n      <td>41350.0</td>\n      <td>40140.0</td>\n    </tr>\n    <tr>\n      <th>1</th>\n      <td>1102</td>\n      <td>Norfolk Island</td>\n      <td>0.0</td>\n      <td>0.0</td>\n      <td>0.0</td>\n      <td>0.0</td>\n      <td>0.0</td>\n      <td>0.0</td>\n      <td>0.0</td>\n      <td>0.0</td>\n      <td>...</td>\n      <td>0.0</td>\n      <td>0.0</td>\n      <td>0.0</td>\n      <td>0.0</td>\n      <td>0.0</td>\n      <td>0.0</td>\n      <td>0.0</td>\n      <td>0.0</td>\n      <td>0.0</td>\n      <td>0.0</td>\n    </tr>\n    <tr>\n      <th>2</th>\n      <td>1199</td>\n      <td>Australian External Territories nec</td>\n      <td>0.0</td>\n      <td>0.0</td>\n      <td>0.0</td>\n      <td>0.0</td>\n      <td>0.0</td>\n      <td>0.0</td>\n      <td>0.0</td>\n      <td>0.0</td>\n      <td>...</td>\n      <td>0.0</td>\n      <td>0.0</td>\n      <td>0.0</td>\n      <td>0.0</td>\n      <td>0.0</td>\n      <td>0.0</td>\n      <td>0.0</td>\n      <td>0.0</td>\n      <td>0.0</td>\n      <td>0.0</td>\n    </tr>\n    <tr>\n      <th>3</th>\n      <td>1201</td>\n      <td>New Zealand</td>\n      <td>155740.0</td>\n      <td>186450.0</td>\n      <td>150930.0</td>\n      <td>179880.0</td>\n      <td>164000.0</td>\n      <td>122510.0</td>\n      <td>143840.0</td>\n      <td>163170.0</td>\n      <td>...</td>\n      <td>3410.0</td>\n      <td>3330.0</td>\n      <td>3400.0</td>\n      <td>3990.0</td>\n      <td>3440.0</td>\n      <td>3220.0</td>\n      <td>3250.0</td>\n      <td>23900.0</td>\n      <td>48540.0</td>\n      <td>39670.0</td>\n    </tr>\n    <tr>\n      <th>4</th>\n      <td>1301</td>\n      <td>New Caledonia</td>\n      <td>0.0</td>\n      <td>0.0</td>\n      <td>0.0</td>\n      <td>0.0</td>\n      <td>0.0</td>\n      <td>0.0</td>\n      <td>0.0</td>\n      <td>0.0</td>\n      <td>...</td>\n      <td>0.0</td>\n      <td>0.0</td>\n      <td>0.0</td>\n      <td>0.0</td>\n      <td>0.0</td>\n      <td>0.0</td>\n      <td>0.0</td>\n      <td>0.0</td>\n      <td>0.0</td>\n      <td>0.0</td>\n    </tr>\n    <tr>\n      <th>...</th>\n      <td>...</td>\n      <td>...</td>\n      <td>...</td>\n      <td>...</td>\n      <td>...</td>\n      <td>...</td>\n      <td>...</td>\n      <td>...</td>\n      <td>...</td>\n      <td>...</td>\n      <td>...</td>\n      <td>...</td>\n      <td>...</td>\n      <td>...</td>\n      <td>...</td>\n      <td>...</td>\n      <td>...</td>\n      <td>...</td>\n      <td>...</td>\n      <td>...</td>\n      <td>...</td>\n    </tr>\n    <tr>\n      <th>245</th>\n      <td>9228</td>\n      <td>Uganda</td>\n      <td>80.0</td>\n      <td>70.0</td>\n      <td>70.0</td>\n      <td>150.0</td>\n      <td>70.0</td>\n      <td>30.0</td>\n      <td>50.0</td>\n      <td>60.0</td>\n      <td>...</td>\n      <td>0.0</td>\n      <td>10.0</td>\n      <td>10.0</td>\n      <td>20.0</td>\n      <td>0.0</td>\n      <td>10.0</td>\n      <td>0.0</td>\n      <td>10.0</td>\n      <td>10.0</td>\n      <td>0.0</td>\n    </tr>\n    <tr>\n      <th>246</th>\n      <td>9231</td>\n      <td>Zambia</td>\n      <td>110.0</td>\n      <td>80.0</td>\n      <td>110.0</td>\n      <td>160.0</td>\n      <td>110.0</td>\n      <td>100.0</td>\n      <td>110.0</td>\n      <td>80.0</td>\n      <td>...</td>\n      <td>20.0</td>\n      <td>10.0</td>\n      <td>20.0</td>\n      <td>20.0</td>\n      <td>0.0</td>\n      <td>10.0</td>\n      <td>0.0</td>\n      <td>0.0</td>\n      <td>0.0</td>\n      <td>0.0</td>\n    </tr>\n    <tr>\n      <th>247</th>\n      <td>9232</td>\n      <td>Zimbabwe</td>\n      <td>420.0</td>\n      <td>370.0</td>\n      <td>510.0</td>\n      <td>830.0</td>\n      <td>610.0</td>\n      <td>370.0</td>\n      <td>360.0</td>\n      <td>530.0</td>\n      <td>...</td>\n      <td>50.0</td>\n      <td>50.0</td>\n      <td>70.0</td>\n      <td>60.0</td>\n      <td>30.0</td>\n      <td>20.0</td>\n      <td>20.0</td>\n      <td>20.0</td>\n      <td>10.0</td>\n      <td>20.0</td>\n    </tr>\n    <tr>\n      <th>248</th>\n      <td>9299</td>\n      <td>S &amp; E Afr, nec</td>\n      <td>0.0</td>\n      <td>0.0</td>\n      <td>0.0</td>\n      <td>0.0</td>\n      <td>0.0</td>\n      <td>0.0</td>\n      <td>0.0</td>\n      <td>0.0</td>\n      <td>...</td>\n      <td>0.0</td>\n      <td>0.0</td>\n      <td>0.0</td>\n      <td>0.0</td>\n      <td>0.0</td>\n      <td>0.0</td>\n      <td>0.0</td>\n      <td>0.0</td>\n      <td>0.0</td>\n      <td>0.0</td>\n    </tr>\n    <tr>\n      <th>249</th>\n      <td>0000</td>\n      <td>Inadequately Described</td>\n      <td>1340.0</td>\n      <td>4440.0</td>\n      <td>1750.0</td>\n      <td>650.0</td>\n      <td>240.0</td>\n      <td>470.0</td>\n      <td>1190.0</td>\n      <td>1440.0</td>\n      <td>...</td>\n      <td>270.0</td>\n      <td>1050.0</td>\n      <td>100.0</td>\n      <td>420.0</td>\n      <td>120.0</td>\n      <td>100.0</td>\n      <td>90.0</td>\n      <td>290.0</td>\n      <td>130.0</td>\n      <td>200.0</td>\n    </tr>\n  </tbody>\n</table>\n<p>250 rows × 60 columns</p>\n</div>"
     },
     "execution_count": 3,
     "metadata": {},
     "output_type": "execute_result"
    }
   ],
   "source": [
    "ds_2=ds_2.drop(ds_2.index[[250,251,252,253,254,255,256,257]])\n",
    "ds_2"
   ]
  },
  {
   "cell_type": "code",
   "execution_count": null,
   "metadata": {
    "pycharm": {
     "is_executing": true
    }
   },
   "outputs": [
    {
     "data": {
      "text/plain": "Summarize dataset:   0%|          | 0/5 [00:00<?, ?it/s]",
      "application/vnd.jupyter.widget-view+json": {
       "version_major": 2,
       "version_minor": 0,
       "model_id": "441effd205fd40bcae50c0e81c8c1fc9"
      }
     },
     "metadata": {},
     "output_type": "display_data"
    },
    {
     "data": {
      "text/plain": "Generate report structure:   0%|          | 0/1 [00:00<?, ?it/s]",
      "application/vnd.jupyter.widget-view+json": {
       "version_major": 2,
       "version_minor": 0,
       "model_id": "2d15e92b0b524ea39a6e86b3699a8a79"
      }
     },
     "metadata": {},
     "output_type": "display_data"
    },
    {
     "data": {
      "text/plain": "Render HTML:   0%|          | 0/1 [00:00<?, ?it/s]",
      "application/vnd.jupyter.widget-view+json": {
       "version_major": 2,
       "version_minor": 0,
       "model_id": "ba320adbdb6644e087e818008ec621f3"
      }
     },
     "metadata": {},
     "output_type": "display_data"
    }
   ],
   "source": [
    "profile = ProfileReport(ds_2,title=\"Pandas Profiling Report\")\n",
    "profile"
   ]
  },
  {
   "cell_type": "code",
   "execution_count": null,
   "metadata": {
    "pycharm": {
     "is_executing": true
    }
   },
   "outputs": [],
   "source": [
    "profile.to_file(\"C:\\\\Users\\\\Moditha\\\\Desktop\\\\your_report.html\")"
   ]
  },
  {
   "cell_type": "code",
   "execution_count": null,
   "metadata": {
    "pycharm": {
     "is_executing": true
    }
   },
   "outputs": [],
   "source": [
    "ds_2.to_csv(\"Departures_Data.csv\", index=False)"
   ]
  },
  {
   "cell_type": "code",
   "execution_count": null,
   "metadata": {
    "pycharm": {
     "is_executing": true
    }
   },
   "outputs": [],
   "source": [
    "ds_2.to_json(\"Departures_Data.json\",orient='records')"
   ]
  },
  {
   "cell_type": "code",
   "execution_count": null,
   "metadata": {
    "pycharm": {
     "is_executing": true
    }
   },
   "outputs": [],
   "source": [
    "ds_2.shape"
   ]
  },
  {
   "cell_type": "code",
   "execution_count": null,
   "metadata": {
    "pycharm": {
     "is_executing": true
    }
   },
   "outputs": [],
   "source": [
    "ds_2.info()"
   ]
  },
  {
   "cell_type": "code",
   "execution_count": null,
   "metadata": {
    "pycharm": {
     "is_executing": true
    }
   },
   "outputs": [],
   "source": [
    "for col in ds_2.columns:\n",
    "    print(col)"
   ]
  },
  {
   "cell_type": "code",
   "execution_count": null,
   "metadata": {
    "pycharm": {
     "is_executing": true
    }
   },
   "outputs": [],
   "source": [
    "for col in ds_2.columns:\n",
    "    x = ds_2[col].dtype\n",
    "    print(x)"
   ]
  },
  {
   "cell_type": "code",
   "execution_count": null,
   "metadata": {
    "pycharm": {
     "is_executing": true
    }
   },
   "outputs": [],
   "source": [
    "for col in ds_2.columns:\n",
    "    x = ds_2[col].count()\n",
    "    print(x)"
   ]
  },
  {
   "cell_type": "code",
   "execution_count": null,
   "metadata": {
    "pycharm": {
     "is_executing": true
    }
   },
   "outputs": [],
   "source": [
    "for col in ds_2[ds_2.columns.drop(labels=[\"SACC code(a)\", \"Country of citizenship(a)\"])]:\n",
    "    x = ds_2[col].min()\n",
    "    print(x)"
   ]
  },
  {
   "cell_type": "code",
   "execution_count": null,
   "metadata": {
    "pycharm": {
     "is_executing": true
    }
   },
   "outputs": [],
   "source": [
    "for col in ds_2[ds_2.columns.drop(labels=[\"SACC code(a)\", \"Country of citizenship(a)\"])]:\n",
    "    x = ds_2[col].max()\n",
    "    print(x)"
   ]
  },
  {
   "cell_type": "code",
   "execution_count": null,
   "metadata": {
    "pycharm": {
     "is_executing": true
    }
   },
   "outputs": [],
   "source": [
    "for col in ds_2.columns:\n",
    "    x = ds_2[col].nunique()\n",
    "    print(x)"
   ]
  },
  {
   "cell_type": "code",
   "execution_count": null,
   "metadata": {
    "pycharm": {
     "is_executing": true
    }
   },
   "outputs": [],
   "source": [
    "for col in ds_2.columns:\n",
    "    x = ds_2[col].isnull().sum()\n",
    "    print(x)"
   ]
  },
  {
   "cell_type": "code",
   "execution_count": null,
   "metadata": {
    "pycharm": {
     "is_executing": true
    }
   },
   "outputs": [],
   "source": [
    "fig = px.scatter(ds_2, x=datetime.datetime(2016, 9, 1, 0, 0), y=datetime.datetime(2017, 1, 1, 0, 0))\n",
    "fig.show()"
   ]
  },
  {
   "cell_type": "code",
   "execution_count": null,
   "metadata": {
    "pycharm": {
     "is_executing": true
    }
   },
   "outputs": [],
   "source": [
    "correlation_matrix_1=ds_2.corr(method ='spearman')\n",
    "correlation_matrix_1"
   ]
  },
  {
   "cell_type": "code",
   "execution_count": null,
   "metadata": {
    "pycharm": {
     "is_executing": true
    }
   },
   "outputs": [],
   "source": [
    "correlation_matrix_2=ds_2.corr(method ='pearson')\n",
    "correlation_matrix_2"
   ]
  },
  {
   "cell_type": "code",
   "execution_count": null,
   "metadata": {
    "pycharm": {
     "is_executing": true
    }
   },
   "outputs": [],
   "source": [
    "fig,ax=plt.subplots()\n",
    "fig.set_size_inches(50,50)\n",
    "sns.heatmap(correlation_matrix_1,center=0,annot=True,annot_kws={\"size\": 12})\n",
    "sns.despine()"
   ]
  },
  {
   "cell_type": "code",
   "execution_count": null,
   "metadata": {
    "pycharm": {
     "is_executing": true
    }
   },
   "outputs": [],
   "source": [
    "sns.heatmap(ds_2.corr(),vmin=-1, vmax=1, center=0,cmap='coolwarm',annot=True)\n",
    "plt.title('Correlation matrix of breast cancer data')\n",
    "plt.show()"
   ]
  },
  {
   "cell_type": "code",
   "execution_count": null,
   "metadata": {
    "pycharm": {
     "is_executing": true
    }
   },
   "outputs": [],
   "source": []
  }
 ],
 "metadata": {
  "kernelspec": {
   "display_name": "Python 3 (ipykernel)",
   "language": "python",
   "name": "python3"
  },
  "language_info": {
   "codemirror_mode": {
    "name": "ipython",
    "version": 3
   },
   "file_extension": ".py",
   "mimetype": "text/x-python",
   "name": "python",
   "nbconvert_exporter": "python",
   "pygments_lexer": "ipython3",
   "version": "3.9.6"
  }
 },
 "nbformat": 4,
 "nbformat_minor": 1
}