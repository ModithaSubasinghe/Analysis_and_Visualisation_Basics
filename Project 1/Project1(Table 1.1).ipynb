{
 "cells": [
  {
   "cell_type": "code",
   "execution_count": 1,
   "metadata": {},
   "outputs": [],
   "source": [
    "import pandas as pd\n",
    "import numpy as np\n",
    "from pandas_profiling import ProfileReport\n",
    "import plotly.express as px"
   ]
  },
  {
   "cell_type": "code",
   "execution_count": 2,
   "metadata": {},
   "outputs": [
    {
     "data": {
      "text/plain": "                                          SACC code(a)  \\\n0                                                 1101   \n1                                                 1102   \n2                                                 1199   \n3                                                 1201   \n4                                                 1301   \n..                                                 ...   \n254  (a) Country of citizenship classification and ...   \n255  Standard Australian Classification of Countrie...   \n256  (b) To confidentialise, estimates have been ro...   \n257                                                NaN   \n258                   © Commonwealth of Australia 2021   \n\n               Country of citizenship(a)  2016-09-01 00:00:00  \\\n0                              Australia             788680.0   \n1                         Norfolk Island                  0.0   \n2    Australian External Territories nec                  0.0   \n3                            New Zealand             166800.0   \n4                          New Caledonia                  0.0   \n..                                   ...                  ...   \n254                                  NaN                  NaN   \n255                                  NaN                  NaN   \n256                                  NaN                  NaN   \n257                                  NaN                  NaN   \n258                                  NaN                  NaN   \n\n     2016-10-01 00:00:00  2016-11-01 00:00:00  2016-12-01 00:00:00  \\\n0               907430.0             649150.0             647520.0   \n1                    0.0                  0.0                  0.0   \n2                    0.0                  0.0                  0.0   \n3               176580.0             144860.0             162290.0   \n4                    0.0                  0.0                  0.0   \n..                   ...                  ...                  ...   \n254                  NaN                  NaN                  NaN   \n255                  NaN                  NaN                  NaN   \n256                  NaN                  NaN                  NaN   \n257                  NaN                  NaN                  NaN   \n258                  NaN                  NaN                  NaN   \n\n     2017-01-01 00:00:00  2017-02-01 00:00:00  2017-03-01 00:00:00  \\\n0              1049590.0             622860.0             605580.0   \n1                    0.0                  0.0                  0.0   \n2                    0.0                  0.0                  0.0   \n3               174900.0             127510.0             150080.0   \n4                    0.0                  0.0                  0.0   \n..                   ...                  ...                  ...   \n254                  NaN                  NaN                  NaN   \n255                  NaN                  NaN                  NaN   \n256                  NaN                  NaN                  NaN   \n257                  NaN                  NaN                  NaN   \n258                  NaN                  NaN                  NaN   \n\n     2017-04-01 00:00:00  ...  2020-09-01 00:00:00  2020-10-01 00:00:00  \\\n0               773900.0  ...               8900.0              12280.0   \n1                    0.0  ...                  0.0                  0.0   \n2                    0.0  ...                  0.0                  0.0   \n3               164100.0  ...               1210.0               2460.0   \n4                    0.0  ...                  0.0                  0.0   \n..                   ...  ...                  ...                  ...   \n254                  NaN  ...                  NaN                  NaN   \n255                  NaN  ...                  NaN                  NaN   \n256                  NaN  ...                  NaN                  NaN   \n257                  NaN  ...                  NaN                  NaN   \n258                  NaN  ...                  NaN                  NaN   \n\n     2020-11-01 00:00:00  2020-12-01 00:00:00  2021-01-01 00:00:00  \\\n0                  15500              17820.0              14140.0   \n1                      0                  0.0                  0.0   \n2                      0                  0.0                  0.0   \n3                   3710               4950.0               4380.0   \n4                      0                  0.0                  0.0   \n..                   ...                  ...                  ...   \n254                  NaN                  NaN                  NaN   \n255                  NaN                  NaN                  NaN   \n256                  NaN                  NaN                  NaN   \n257                  NaN                  NaN                  NaN   \n258                  NaN                  NaN                  NaN   \n\n     2021-02-01 00:00:00  2021-03-01 00:00:00  2021-04-01 00:00:00  \\\n0                11510.0              14300.0              19590.0   \n1                    0.0                  0.0                  0.0   \n2                    0.0                  0.0                  0.0   \n3                 4060.0               5060.0              20300.0   \n4                    0.0                  0.0                  0.0   \n..                   ...                  ...                  ...   \n254                  NaN                  NaN                  NaN   \n255                  NaN                  NaN                  NaN   \n256                  NaN                  NaN                  NaN   \n257                  NaN                  NaN                  NaN   \n258                  NaN                  NaN                  NaN   \n\n     2021-05-01 00:00:00  2021-06-01 00:00:00  \n0                44570.0              40490.0  \n1                    0.0                  0.0  \n2                    0.0                  0.0  \n3                52280.0              43780.0  \n4                    0.0                  0.0  \n..                   ...                  ...  \n254                  NaN                  NaN  \n255                  NaN                  NaN  \n256                  NaN                  NaN  \n257                  NaN                  NaN  \n258                  NaN                  NaN  \n\n[259 rows x 60 columns]",
      "text/html": "<div>\n<style scoped>\n    .dataframe tbody tr th:only-of-type {\n        vertical-align: middle;\n    }\n\n    .dataframe tbody tr th {\n        vertical-align: top;\n    }\n\n    .dataframe thead th {\n        text-align: right;\n    }\n</style>\n<table border=\"1\" class=\"dataframe\">\n  <thead>\n    <tr style=\"text-align: right;\">\n      <th></th>\n      <th>SACC code(a)</th>\n      <th>Country of citizenship(a)</th>\n      <th>2016-09-01 00:00:00</th>\n      <th>2016-10-01 00:00:00</th>\n      <th>2016-11-01 00:00:00</th>\n      <th>2016-12-01 00:00:00</th>\n      <th>2017-01-01 00:00:00</th>\n      <th>2017-02-01 00:00:00</th>\n      <th>2017-03-01 00:00:00</th>\n      <th>2017-04-01 00:00:00</th>\n      <th>...</th>\n      <th>2020-09-01 00:00:00</th>\n      <th>2020-10-01 00:00:00</th>\n      <th>2020-11-01 00:00:00</th>\n      <th>2020-12-01 00:00:00</th>\n      <th>2021-01-01 00:00:00</th>\n      <th>2021-02-01 00:00:00</th>\n      <th>2021-03-01 00:00:00</th>\n      <th>2021-04-01 00:00:00</th>\n      <th>2021-05-01 00:00:00</th>\n      <th>2021-06-01 00:00:00</th>\n    </tr>\n  </thead>\n  <tbody>\n    <tr>\n      <th>0</th>\n      <td>1101</td>\n      <td>Australia</td>\n      <td>788680.0</td>\n      <td>907430.0</td>\n      <td>649150.0</td>\n      <td>647520.0</td>\n      <td>1049590.0</td>\n      <td>622860.0</td>\n      <td>605580.0</td>\n      <td>773900.0</td>\n      <td>...</td>\n      <td>8900.0</td>\n      <td>12280.0</td>\n      <td>15500</td>\n      <td>17820.0</td>\n      <td>14140.0</td>\n      <td>11510.0</td>\n      <td>14300.0</td>\n      <td>19590.0</td>\n      <td>44570.0</td>\n      <td>40490.0</td>\n    </tr>\n    <tr>\n      <th>1</th>\n      <td>1102</td>\n      <td>Norfolk Island</td>\n      <td>0.0</td>\n      <td>0.0</td>\n      <td>0.0</td>\n      <td>0.0</td>\n      <td>0.0</td>\n      <td>0.0</td>\n      <td>0.0</td>\n      <td>0.0</td>\n      <td>...</td>\n      <td>0.0</td>\n      <td>0.0</td>\n      <td>0</td>\n      <td>0.0</td>\n      <td>0.0</td>\n      <td>0.0</td>\n      <td>0.0</td>\n      <td>0.0</td>\n      <td>0.0</td>\n      <td>0.0</td>\n    </tr>\n    <tr>\n      <th>2</th>\n      <td>1199</td>\n      <td>Australian External Territories nec</td>\n      <td>0.0</td>\n      <td>0.0</td>\n      <td>0.0</td>\n      <td>0.0</td>\n      <td>0.0</td>\n      <td>0.0</td>\n      <td>0.0</td>\n      <td>0.0</td>\n      <td>...</td>\n      <td>0.0</td>\n      <td>0.0</td>\n      <td>0</td>\n      <td>0.0</td>\n      <td>0.0</td>\n      <td>0.0</td>\n      <td>0.0</td>\n      <td>0.0</td>\n      <td>0.0</td>\n      <td>0.0</td>\n    </tr>\n    <tr>\n      <th>3</th>\n      <td>1201</td>\n      <td>New Zealand</td>\n      <td>166800.0</td>\n      <td>176580.0</td>\n      <td>144860.0</td>\n      <td>162290.0</td>\n      <td>174900.0</td>\n      <td>127510.0</td>\n      <td>150080.0</td>\n      <td>164100.0</td>\n      <td>...</td>\n      <td>1210.0</td>\n      <td>2460.0</td>\n      <td>3710</td>\n      <td>4950.0</td>\n      <td>4380.0</td>\n      <td>4060.0</td>\n      <td>5060.0</td>\n      <td>20300.0</td>\n      <td>52280.0</td>\n      <td>43780.0</td>\n    </tr>\n    <tr>\n      <th>4</th>\n      <td>1301</td>\n      <td>New Caledonia</td>\n      <td>0.0</td>\n      <td>0.0</td>\n      <td>0.0</td>\n      <td>0.0</td>\n      <td>0.0</td>\n      <td>0.0</td>\n      <td>0.0</td>\n      <td>0.0</td>\n      <td>...</td>\n      <td>0.0</td>\n      <td>0.0</td>\n      <td>0</td>\n      <td>0.0</td>\n      <td>0.0</td>\n      <td>0.0</td>\n      <td>0.0</td>\n      <td>0.0</td>\n      <td>0.0</td>\n      <td>0.0</td>\n    </tr>\n    <tr>\n      <th>...</th>\n      <td>...</td>\n      <td>...</td>\n      <td>...</td>\n      <td>...</td>\n      <td>...</td>\n      <td>...</td>\n      <td>...</td>\n      <td>...</td>\n      <td>...</td>\n      <td>...</td>\n      <td>...</td>\n      <td>...</td>\n      <td>...</td>\n      <td>...</td>\n      <td>...</td>\n      <td>...</td>\n      <td>...</td>\n      <td>...</td>\n      <td>...</td>\n      <td>...</td>\n      <td>...</td>\n    </tr>\n    <tr>\n      <th>254</th>\n      <td>(a) Country of citizenship classification and ...</td>\n      <td>NaN</td>\n      <td>NaN</td>\n      <td>NaN</td>\n      <td>NaN</td>\n      <td>NaN</td>\n      <td>NaN</td>\n      <td>NaN</td>\n      <td>NaN</td>\n      <td>NaN</td>\n      <td>...</td>\n      <td>NaN</td>\n      <td>NaN</td>\n      <td>NaN</td>\n      <td>NaN</td>\n      <td>NaN</td>\n      <td>NaN</td>\n      <td>NaN</td>\n      <td>NaN</td>\n      <td>NaN</td>\n      <td>NaN</td>\n    </tr>\n    <tr>\n      <th>255</th>\n      <td>Standard Australian Classification of Countrie...</td>\n      <td>NaN</td>\n      <td>NaN</td>\n      <td>NaN</td>\n      <td>NaN</td>\n      <td>NaN</td>\n      <td>NaN</td>\n      <td>NaN</td>\n      <td>NaN</td>\n      <td>NaN</td>\n      <td>...</td>\n      <td>NaN</td>\n      <td>NaN</td>\n      <td>NaN</td>\n      <td>NaN</td>\n      <td>NaN</td>\n      <td>NaN</td>\n      <td>NaN</td>\n      <td>NaN</td>\n      <td>NaN</td>\n      <td>NaN</td>\n    </tr>\n    <tr>\n      <th>256</th>\n      <td>(b) To confidentialise, estimates have been ro...</td>\n      <td>NaN</td>\n      <td>NaN</td>\n      <td>NaN</td>\n      <td>NaN</td>\n      <td>NaN</td>\n      <td>NaN</td>\n      <td>NaN</td>\n      <td>NaN</td>\n      <td>NaN</td>\n      <td>...</td>\n      <td>NaN</td>\n      <td>NaN</td>\n      <td>NaN</td>\n      <td>NaN</td>\n      <td>NaN</td>\n      <td>NaN</td>\n      <td>NaN</td>\n      <td>NaN</td>\n      <td>NaN</td>\n      <td>NaN</td>\n    </tr>\n    <tr>\n      <th>257</th>\n      <td>NaN</td>\n      <td>NaN</td>\n      <td>NaN</td>\n      <td>NaN</td>\n      <td>NaN</td>\n      <td>NaN</td>\n      <td>NaN</td>\n      <td>NaN</td>\n      <td>NaN</td>\n      <td>NaN</td>\n      <td>...</td>\n      <td>NaN</td>\n      <td>NaN</td>\n      <td>NaN</td>\n      <td>NaN</td>\n      <td>NaN</td>\n      <td>NaN</td>\n      <td>NaN</td>\n      <td>NaN</td>\n      <td>NaN</td>\n      <td>NaN</td>\n    </tr>\n    <tr>\n      <th>258</th>\n      <td>© Commonwealth of Australia 2021</td>\n      <td>NaN</td>\n      <td>NaN</td>\n      <td>NaN</td>\n      <td>NaN</td>\n      <td>NaN</td>\n      <td>NaN</td>\n      <td>NaN</td>\n      <td>NaN</td>\n      <td>NaN</td>\n      <td>...</td>\n      <td>NaN</td>\n      <td>NaN</td>\n      <td>NaN</td>\n      <td>NaN</td>\n      <td>NaN</td>\n      <td>NaN</td>\n      <td>NaN</td>\n      <td>NaN</td>\n      <td>NaN</td>\n      <td>NaN</td>\n    </tr>\n  </tbody>\n</table>\n<p>259 rows × 60 columns</p>\n</div>"
     },
     "execution_count": 2,
     "metadata": {},
     "output_type": "execute_result"
    }
   ],
   "source": [
    "ds_1=pd.read_excel('3401055004_OTSP_CountryofCitizenship_Jun21.xlsx', sheet_name='Table 1.1', header=[7])\n",
    "ds_1"
   ]
  },
  {
   "cell_type": "code",
   "execution_count": 3,
   "metadata": {},
   "outputs": [
    {
     "data": {
      "text/plain": "    SACC code(a)            Country of citizenship(a)  2016-09-01 00:00:00  \\\n0           1101                            Australia             788680.0   \n1           1102                       Norfolk Island                  0.0   \n2           1199  Australian External Territories nec                  0.0   \n3           1201                          New Zealand             166800.0   \n4           1301                        New Caledonia                  0.0   \n..           ...                                  ...                  ...   \n245         9228                               Uganda                 50.0   \n246         9231                               Zambia                100.0   \n247         9232                             Zimbabwe                490.0   \n248         9299                       S & E Afr, nec                  0.0   \n249            0               Inadequately Described               2280.0   \n\n     2016-10-01 00:00:00  2016-11-01 00:00:00  2016-12-01 00:00:00  \\\n0               907430.0             649150.0             647520.0   \n1                    0.0                  0.0                  0.0   \n2                    0.0                  0.0                  0.0   \n3               176580.0             144860.0             162290.0   \n4                    0.0                  0.0                  0.0   \n..                   ...                  ...                  ...   \n245                 70.0                 60.0                100.0   \n246                 90.0                 80.0                120.0   \n247                470.0                470.0                810.0   \n248                  0.0                  0.0                  0.0   \n249               3330.0                740.0                530.0   \n\n     2017-01-01 00:00:00  2017-02-01 00:00:00  2017-03-01 00:00:00  \\\n0              1049590.0             622860.0             605580.0   \n1                    0.0                  0.0                  0.0   \n2                    0.0                  0.0                  0.0   \n3               174900.0             127510.0             150080.0   \n4                    0.0                  0.0                  0.0   \n..                   ...                  ...                  ...   \n245                110.0                 90.0                 70.0   \n246                170.0                140.0                140.0   \n247                790.0                610.0                470.0   \n248                  0.0                  0.0                  0.0   \n249                450.0               1010.0               1270.0   \n\n     2017-04-01 00:00:00  ...  2020-09-01 00:00:00  2020-10-01 00:00:00  \\\n0               773900.0  ...               8900.0              12280.0   \n1                    0.0  ...                  0.0                  0.0   \n2                    0.0  ...                  0.0                  0.0   \n3               164100.0  ...               1210.0               2460.0   \n4                    0.0  ...                  0.0                  0.0   \n..                   ...  ...                  ...                  ...   \n245                110.0  ...                  0.0                  0.0   \n246                100.0  ...                  0.0                 10.0   \n247                640.0  ...                 10.0                 10.0   \n248                  0.0  ...                  0.0                  0.0   \n249               2560.0  ...                250.0                370.0   \n\n     2020-11-01 00:00:00  2020-12-01 00:00:00  2021-01-01 00:00:00  \\\n0                  15500              17820.0              14140.0   \n1                      0                  0.0                  0.0   \n2                      0                  0.0                  0.0   \n3                   3710               4950.0               4380.0   \n4                      0                  0.0                  0.0   \n..                   ...                  ...                  ...   \n245                   10                  0.0                  0.0   \n246                    0                 10.0                 10.0   \n247                   40                 50.0                 20.0   \n248                    0                  0.0                  0.0   \n249                  120                190.0                150.0   \n\n     2021-02-01 00:00:00  2021-03-01 00:00:00  2021-04-01 00:00:00  \\\n0                11510.0              14300.0              19590.0   \n1                    0.0                  0.0                  0.0   \n2                    0.0                  0.0                  0.0   \n3                 4060.0               5060.0              20300.0   \n4                    0.0                  0.0                  0.0   \n..                   ...                  ...                  ...   \n245                 10.0                  0.0                 10.0   \n246                  0.0                 10.0                 20.0   \n247                 60.0                 50.0                 40.0   \n248                  0.0                  0.0                  0.0   \n249                310.0                860.0                600.0   \n\n     2021-05-01 00:00:00  2021-06-01 00:00:00  \n0                44570.0              40490.0  \n1                    0.0                  0.0  \n2                    0.0                  0.0  \n3                52280.0              43780.0  \n4                    0.0                  0.0  \n..                   ...                  ...  \n245                  0.0                  0.0  \n246                 20.0                 10.0  \n247                 50.0                 40.0  \n248                  0.0                  0.0  \n249                670.0               1190.0  \n\n[250 rows x 60 columns]",
      "text/html": "<div>\n<style scoped>\n    .dataframe tbody tr th:only-of-type {\n        vertical-align: middle;\n    }\n\n    .dataframe tbody tr th {\n        vertical-align: top;\n    }\n\n    .dataframe thead th {\n        text-align: right;\n    }\n</style>\n<table border=\"1\" class=\"dataframe\">\n  <thead>\n    <tr style=\"text-align: right;\">\n      <th></th>\n      <th>SACC code(a)</th>\n      <th>Country of citizenship(a)</th>\n      <th>2016-09-01 00:00:00</th>\n      <th>2016-10-01 00:00:00</th>\n      <th>2016-11-01 00:00:00</th>\n      <th>2016-12-01 00:00:00</th>\n      <th>2017-01-01 00:00:00</th>\n      <th>2017-02-01 00:00:00</th>\n      <th>2017-03-01 00:00:00</th>\n      <th>2017-04-01 00:00:00</th>\n      <th>...</th>\n      <th>2020-09-01 00:00:00</th>\n      <th>2020-10-01 00:00:00</th>\n      <th>2020-11-01 00:00:00</th>\n      <th>2020-12-01 00:00:00</th>\n      <th>2021-01-01 00:00:00</th>\n      <th>2021-02-01 00:00:00</th>\n      <th>2021-03-01 00:00:00</th>\n      <th>2021-04-01 00:00:00</th>\n      <th>2021-05-01 00:00:00</th>\n      <th>2021-06-01 00:00:00</th>\n    </tr>\n  </thead>\n  <tbody>\n    <tr>\n      <th>0</th>\n      <td>1101</td>\n      <td>Australia</td>\n      <td>788680.0</td>\n      <td>907430.0</td>\n      <td>649150.0</td>\n      <td>647520.0</td>\n      <td>1049590.0</td>\n      <td>622860.0</td>\n      <td>605580.0</td>\n      <td>773900.0</td>\n      <td>...</td>\n      <td>8900.0</td>\n      <td>12280.0</td>\n      <td>15500</td>\n      <td>17820.0</td>\n      <td>14140.0</td>\n      <td>11510.0</td>\n      <td>14300.0</td>\n      <td>19590.0</td>\n      <td>44570.0</td>\n      <td>40490.0</td>\n    </tr>\n    <tr>\n      <th>1</th>\n      <td>1102</td>\n      <td>Norfolk Island</td>\n      <td>0.0</td>\n      <td>0.0</td>\n      <td>0.0</td>\n      <td>0.0</td>\n      <td>0.0</td>\n      <td>0.0</td>\n      <td>0.0</td>\n      <td>0.0</td>\n      <td>...</td>\n      <td>0.0</td>\n      <td>0.0</td>\n      <td>0</td>\n      <td>0.0</td>\n      <td>0.0</td>\n      <td>0.0</td>\n      <td>0.0</td>\n      <td>0.0</td>\n      <td>0.0</td>\n      <td>0.0</td>\n    </tr>\n    <tr>\n      <th>2</th>\n      <td>1199</td>\n      <td>Australian External Territories nec</td>\n      <td>0.0</td>\n      <td>0.0</td>\n      <td>0.0</td>\n      <td>0.0</td>\n      <td>0.0</td>\n      <td>0.0</td>\n      <td>0.0</td>\n      <td>0.0</td>\n      <td>...</td>\n      <td>0.0</td>\n      <td>0.0</td>\n      <td>0</td>\n      <td>0.0</td>\n      <td>0.0</td>\n      <td>0.0</td>\n      <td>0.0</td>\n      <td>0.0</td>\n      <td>0.0</td>\n      <td>0.0</td>\n    </tr>\n    <tr>\n      <th>3</th>\n      <td>1201</td>\n      <td>New Zealand</td>\n      <td>166800.0</td>\n      <td>176580.0</td>\n      <td>144860.0</td>\n      <td>162290.0</td>\n      <td>174900.0</td>\n      <td>127510.0</td>\n      <td>150080.0</td>\n      <td>164100.0</td>\n      <td>...</td>\n      <td>1210.0</td>\n      <td>2460.0</td>\n      <td>3710</td>\n      <td>4950.0</td>\n      <td>4380.0</td>\n      <td>4060.0</td>\n      <td>5060.0</td>\n      <td>20300.0</td>\n      <td>52280.0</td>\n      <td>43780.0</td>\n    </tr>\n    <tr>\n      <th>4</th>\n      <td>1301</td>\n      <td>New Caledonia</td>\n      <td>0.0</td>\n      <td>0.0</td>\n      <td>0.0</td>\n      <td>0.0</td>\n      <td>0.0</td>\n      <td>0.0</td>\n      <td>0.0</td>\n      <td>0.0</td>\n      <td>...</td>\n      <td>0.0</td>\n      <td>0.0</td>\n      <td>0</td>\n      <td>0.0</td>\n      <td>0.0</td>\n      <td>0.0</td>\n      <td>0.0</td>\n      <td>0.0</td>\n      <td>0.0</td>\n      <td>0.0</td>\n    </tr>\n    <tr>\n      <th>...</th>\n      <td>...</td>\n      <td>...</td>\n      <td>...</td>\n      <td>...</td>\n      <td>...</td>\n      <td>...</td>\n      <td>...</td>\n      <td>...</td>\n      <td>...</td>\n      <td>...</td>\n      <td>...</td>\n      <td>...</td>\n      <td>...</td>\n      <td>...</td>\n      <td>...</td>\n      <td>...</td>\n      <td>...</td>\n      <td>...</td>\n      <td>...</td>\n      <td>...</td>\n      <td>...</td>\n    </tr>\n    <tr>\n      <th>245</th>\n      <td>9228</td>\n      <td>Uganda</td>\n      <td>50.0</td>\n      <td>70.0</td>\n      <td>60.0</td>\n      <td>100.0</td>\n      <td>110.0</td>\n      <td>90.0</td>\n      <td>70.0</td>\n      <td>110.0</td>\n      <td>...</td>\n      <td>0.0</td>\n      <td>0.0</td>\n      <td>10</td>\n      <td>0.0</td>\n      <td>0.0</td>\n      <td>10.0</td>\n      <td>0.0</td>\n      <td>10.0</td>\n      <td>0.0</td>\n      <td>0.0</td>\n    </tr>\n    <tr>\n      <th>246</th>\n      <td>9231</td>\n      <td>Zambia</td>\n      <td>100.0</td>\n      <td>90.0</td>\n      <td>80.0</td>\n      <td>120.0</td>\n      <td>170.0</td>\n      <td>140.0</td>\n      <td>140.0</td>\n      <td>100.0</td>\n      <td>...</td>\n      <td>0.0</td>\n      <td>10.0</td>\n      <td>0</td>\n      <td>10.0</td>\n      <td>10.0</td>\n      <td>0.0</td>\n      <td>10.0</td>\n      <td>20.0</td>\n      <td>20.0</td>\n      <td>10.0</td>\n    </tr>\n    <tr>\n      <th>247</th>\n      <td>9232</td>\n      <td>Zimbabwe</td>\n      <td>490.0</td>\n      <td>470.0</td>\n      <td>470.0</td>\n      <td>810.0</td>\n      <td>790.0</td>\n      <td>610.0</td>\n      <td>470.0</td>\n      <td>640.0</td>\n      <td>...</td>\n      <td>10.0</td>\n      <td>10.0</td>\n      <td>40</td>\n      <td>50.0</td>\n      <td>20.0</td>\n      <td>60.0</td>\n      <td>50.0</td>\n      <td>40.0</td>\n      <td>50.0</td>\n      <td>40.0</td>\n    </tr>\n    <tr>\n      <th>248</th>\n      <td>9299</td>\n      <td>S &amp; E Afr, nec</td>\n      <td>0.0</td>\n      <td>0.0</td>\n      <td>0.0</td>\n      <td>0.0</td>\n      <td>0.0</td>\n      <td>0.0</td>\n      <td>0.0</td>\n      <td>0.0</td>\n      <td>...</td>\n      <td>0.0</td>\n      <td>0.0</td>\n      <td>0</td>\n      <td>0.0</td>\n      <td>0.0</td>\n      <td>0.0</td>\n      <td>0.0</td>\n      <td>0.0</td>\n      <td>0.0</td>\n      <td>0.0</td>\n    </tr>\n    <tr>\n      <th>249</th>\n      <td>0</td>\n      <td>Inadequately Described</td>\n      <td>2280.0</td>\n      <td>3330.0</td>\n      <td>740.0</td>\n      <td>530.0</td>\n      <td>450.0</td>\n      <td>1010.0</td>\n      <td>1270.0</td>\n      <td>2560.0</td>\n      <td>...</td>\n      <td>250.0</td>\n      <td>370.0</td>\n      <td>120</td>\n      <td>190.0</td>\n      <td>150.0</td>\n      <td>310.0</td>\n      <td>860.0</td>\n      <td>600.0</td>\n      <td>670.0</td>\n      <td>1190.0</td>\n    </tr>\n  </tbody>\n</table>\n<p>250 rows × 60 columns</p>\n</div>"
     },
     "execution_count": 3,
     "metadata": {},
     "output_type": "execute_result"
    }
   ],
   "source": [
    "ds_1=ds_1.drop(ds_1.index[[250,251,252,253,254,255,256,257,258]])\n",
    "ds_1"
   ]
  },
  {
   "cell_type": "code",
   "execution_count": 4,
   "metadata": {},
   "outputs": [
    {
     "data": {
      "text/plain": "PeriodIndex(['2016-09', '2016-10', '2016-11', '2016-12', '2017-01', '2017-02',\n             '2017-03', '2017-04', '2017-05', '2017-06', '2017-07', '2017-08',\n             '2017-09', '2017-10', '2017-11', '2017-12', '2018-01', '2018-02',\n             '2018-03', '2018-04', '2018-05', '2018-06', '2018-07', '2018-08',\n             '2018-09', '2018-10', '2018-11', '2018-12', '2019-01', '2019-02',\n             '2019-03', '2019-04', '2019-05', '2019-06', '2019-07', '2019-08',\n             '2019-09', '2019-10', '2019-11', '2019-12', '2020-01', '2020-02',\n             '2020-03', '2020-04', '2020-05', '2020-06', '2020-07', '2020-08',\n             '2020-09', '2020-10', '2020-11', '2020-12', '2021-01', '2021-02',\n             '2021-03', '2021-04', '2021-05', '2021-06'],\n            dtype='period[M]')"
     },
     "execution_count": 4,
     "metadata": {},
     "output_type": "execute_result"
    }
   ],
   "source": [
    "x=pd.to_datetime(ds_1.columns[2:]).to_period('M')\n",
    "x\n"
   ]
  },
  {
   "cell_type": "code",
   "execution_count": 5,
   "metadata": {},
   "outputs": [
    {
     "ename": "TypeError",
     "evalue": "'PeriodIndex' object is not callable",
     "output_type": "error",
     "traceback": [
      "\u001B[1;31m---------------------------------------------------------------------------\u001B[0m",
      "\u001B[1;31mTypeError\u001B[0m                                 Traceback (most recent call last)",
      "\u001B[1;32m~\\AppData\\Local\\Temp/ipykernel_11192/3900285225.py\u001B[0m in \u001B[0;36m<module>\u001B[1;34m\u001B[0m\n\u001B[1;32m----> 1\u001B[1;33m \u001B[0mds_1\u001B[0m \u001B[1;33m=\u001B[0m \u001B[0mds_1\u001B[0m\u001B[1;33m.\u001B[0m\u001B[0mrename\u001B[0m\u001B[1;33m(\u001B[0m\u001B[0mcolumns\u001B[0m\u001B[1;33m=\u001B[0m \u001B[0mx\u001B[0m\u001B[1;33m,\u001B[0m \u001B[0minplace\u001B[0m \u001B[1;33m=\u001B[0m \u001B[1;32mFalse\u001B[0m\u001B[1;33m)\u001B[0m\u001B[1;33m\u001B[0m\u001B[1;33m\u001B[0m\u001B[0m\n\u001B[0m\u001B[0;32m      2\u001B[0m \u001B[1;33m\u001B[0m\u001B[0m\n",
      "\u001B[1;32m~\\AppData\\Local\\Programs\\Python\\Python39\\lib\\site-packages\\pandas\\util\\_decorators.py\u001B[0m in \u001B[0;36mwrapper\u001B[1;34m(*args, **kwargs)\u001B[0m\n\u001B[0;32m    322\u001B[0m         \u001B[1;33m@\u001B[0m\u001B[0mwraps\u001B[0m\u001B[1;33m(\u001B[0m\u001B[0mfunc\u001B[0m\u001B[1;33m)\u001B[0m\u001B[1;33m\u001B[0m\u001B[1;33m\u001B[0m\u001B[0m\n\u001B[0;32m    323\u001B[0m         \u001B[1;32mdef\u001B[0m \u001B[0mwrapper\u001B[0m\u001B[1;33m(\u001B[0m\u001B[1;33m*\u001B[0m\u001B[0margs\u001B[0m\u001B[1;33m,\u001B[0m \u001B[1;33m**\u001B[0m\u001B[0mkwargs\u001B[0m\u001B[1;33m)\u001B[0m \u001B[1;33m->\u001B[0m \u001B[0mCallable\u001B[0m\u001B[1;33m[\u001B[0m\u001B[1;33m...\u001B[0m\u001B[1;33m,\u001B[0m \u001B[0mAny\u001B[0m\u001B[1;33m]\u001B[0m\u001B[1;33m:\u001B[0m\u001B[1;33m\u001B[0m\u001B[1;33m\u001B[0m\u001B[0m\n\u001B[1;32m--> 324\u001B[1;33m             \u001B[1;32mreturn\u001B[0m \u001B[0mfunc\u001B[0m\u001B[1;33m(\u001B[0m\u001B[1;33m*\u001B[0m\u001B[0margs\u001B[0m\u001B[1;33m,\u001B[0m \u001B[1;33m**\u001B[0m\u001B[0mkwargs\u001B[0m\u001B[1;33m)\u001B[0m\u001B[1;33m\u001B[0m\u001B[1;33m\u001B[0m\u001B[0m\n\u001B[0m\u001B[0;32m    325\u001B[0m \u001B[1;33m\u001B[0m\u001B[0m\n\u001B[0;32m    326\u001B[0m         \u001B[0mkind\u001B[0m \u001B[1;33m=\u001B[0m \u001B[0minspect\u001B[0m\u001B[1;33m.\u001B[0m\u001B[0mParameter\u001B[0m\u001B[1;33m.\u001B[0m\u001B[0mPOSITIONAL_OR_KEYWORD\u001B[0m\u001B[1;33m\u001B[0m\u001B[1;33m\u001B[0m\u001B[0m\n",
      "\u001B[1;32m~\\AppData\\Local\\Programs\\Python\\Python39\\lib\\site-packages\\pandas\\core\\frame.py\u001B[0m in \u001B[0;36mrename\u001B[1;34m(self, mapper, index, columns, axis, copy, inplace, level, errors)\u001B[0m\n\u001B[0;32m   5037\u001B[0m         \u001B[1;36m4\u001B[0m  \u001B[1;36m3\u001B[0m  \u001B[1;36m6\u001B[0m\u001B[1;33m\u001B[0m\u001B[1;33m\u001B[0m\u001B[0m\n\u001B[0;32m   5038\u001B[0m         \"\"\"\n\u001B[1;32m-> 5039\u001B[1;33m         return super().rename(\n\u001B[0m\u001B[0;32m   5040\u001B[0m             \u001B[0mmapper\u001B[0m\u001B[1;33m=\u001B[0m\u001B[0mmapper\u001B[0m\u001B[1;33m,\u001B[0m\u001B[1;33m\u001B[0m\u001B[1;33m\u001B[0m\u001B[0m\n\u001B[0;32m   5041\u001B[0m             \u001B[0mindex\u001B[0m\u001B[1;33m=\u001B[0m\u001B[0mindex\u001B[0m\u001B[1;33m,\u001B[0m\u001B[1;33m\u001B[0m\u001B[1;33m\u001B[0m\u001B[0m\n",
      "\u001B[1;32m~\\AppData\\Local\\Programs\\Python\\Python39\\lib\\site-packages\\pandas\\core\\generic.py\u001B[0m in \u001B[0;36mrename\u001B[1;34m(self, mapper, index, columns, axis, copy, inplace, level, errors)\u001B[0m\n\u001B[0;32m   1154\u001B[0m                     \u001B[1;32mraise\u001B[0m \u001B[0mKeyError\u001B[0m\u001B[1;33m(\u001B[0m\u001B[1;34mf\"{missing_labels} not found in axis\"\u001B[0m\u001B[1;33m)\u001B[0m\u001B[1;33m\u001B[0m\u001B[1;33m\u001B[0m\u001B[0m\n\u001B[0;32m   1155\u001B[0m \u001B[1;33m\u001B[0m\u001B[0m\n\u001B[1;32m-> 1156\u001B[1;33m             \u001B[0mnew_index\u001B[0m \u001B[1;33m=\u001B[0m \u001B[0max\u001B[0m\u001B[1;33m.\u001B[0m\u001B[0m_transform_index\u001B[0m\u001B[1;33m(\u001B[0m\u001B[0mf\u001B[0m\u001B[1;33m,\u001B[0m \u001B[0mlevel\u001B[0m\u001B[1;33m)\u001B[0m\u001B[1;33m\u001B[0m\u001B[1;33m\u001B[0m\u001B[0m\n\u001B[0m\u001B[0;32m   1157\u001B[0m             \u001B[0mresult\u001B[0m\u001B[1;33m.\u001B[0m\u001B[0m_set_axis_nocheck\u001B[0m\u001B[1;33m(\u001B[0m\u001B[0mnew_index\u001B[0m\u001B[1;33m,\u001B[0m \u001B[0maxis\u001B[0m\u001B[1;33m=\u001B[0m\u001B[0maxis_no\u001B[0m\u001B[1;33m,\u001B[0m \u001B[0minplace\u001B[0m\u001B[1;33m=\u001B[0m\u001B[1;32mTrue\u001B[0m\u001B[1;33m)\u001B[0m\u001B[1;33m\u001B[0m\u001B[1;33m\u001B[0m\u001B[0m\n\u001B[0;32m   1158\u001B[0m             \u001B[0mresult\u001B[0m\u001B[1;33m.\u001B[0m\u001B[0m_clear_item_cache\u001B[0m\u001B[1;33m(\u001B[0m\u001B[1;33m)\u001B[0m\u001B[1;33m\u001B[0m\u001B[1;33m\u001B[0m\u001B[0m\n",
      "\u001B[1;32m~\\AppData\\Local\\Programs\\Python\\Python39\\lib\\site-packages\\pandas\\core\\indexes\\base.py\u001B[0m in \u001B[0;36m_transform_index\u001B[1;34m(self, func, level)\u001B[0m\n\u001B[0;32m   5544\u001B[0m             \u001B[1;32mreturn\u001B[0m \u001B[0mtype\u001B[0m\u001B[1;33m(\u001B[0m\u001B[0mself\u001B[0m\u001B[1;33m)\u001B[0m\u001B[1;33m.\u001B[0m\u001B[0mfrom_tuples\u001B[0m\u001B[1;33m(\u001B[0m\u001B[0mitems\u001B[0m\u001B[1;33m,\u001B[0m \u001B[0mnames\u001B[0m\u001B[1;33m=\u001B[0m\u001B[0mself\u001B[0m\u001B[1;33m.\u001B[0m\u001B[0mnames\u001B[0m\u001B[1;33m)\u001B[0m\u001B[1;33m\u001B[0m\u001B[1;33m\u001B[0m\u001B[0m\n\u001B[0;32m   5545\u001B[0m         \u001B[1;32melse\u001B[0m\u001B[1;33m:\u001B[0m\u001B[1;33m\u001B[0m\u001B[1;33m\u001B[0m\u001B[0m\n\u001B[1;32m-> 5546\u001B[1;33m             \u001B[0mitems\u001B[0m \u001B[1;33m=\u001B[0m \u001B[1;33m[\u001B[0m\u001B[0mfunc\u001B[0m\u001B[1;33m(\u001B[0m\u001B[0mx\u001B[0m\u001B[1;33m)\u001B[0m \u001B[1;32mfor\u001B[0m \u001B[0mx\u001B[0m \u001B[1;32min\u001B[0m \u001B[0mself\u001B[0m\u001B[1;33m]\u001B[0m\u001B[1;33m\u001B[0m\u001B[1;33m\u001B[0m\u001B[0m\n\u001B[0m\u001B[0;32m   5547\u001B[0m             \u001B[1;32mreturn\u001B[0m \u001B[0mIndex\u001B[0m\u001B[1;33m(\u001B[0m\u001B[0mitems\u001B[0m\u001B[1;33m,\u001B[0m \u001B[0mname\u001B[0m\u001B[1;33m=\u001B[0m\u001B[0mself\u001B[0m\u001B[1;33m.\u001B[0m\u001B[0mname\u001B[0m\u001B[1;33m,\u001B[0m \u001B[0mtupleize_cols\u001B[0m\u001B[1;33m=\u001B[0m\u001B[1;32mFalse\u001B[0m\u001B[1;33m)\u001B[0m\u001B[1;33m\u001B[0m\u001B[1;33m\u001B[0m\u001B[0m\n\u001B[0;32m   5548\u001B[0m \u001B[1;33m\u001B[0m\u001B[0m\n",
      "\u001B[1;32m~\\AppData\\Local\\Programs\\Python\\Python39\\lib\\site-packages\\pandas\\core\\indexes\\base.py\u001B[0m in \u001B[0;36m<listcomp>\u001B[1;34m(.0)\u001B[0m\n\u001B[0;32m   5544\u001B[0m             \u001B[1;32mreturn\u001B[0m \u001B[0mtype\u001B[0m\u001B[1;33m(\u001B[0m\u001B[0mself\u001B[0m\u001B[1;33m)\u001B[0m\u001B[1;33m.\u001B[0m\u001B[0mfrom_tuples\u001B[0m\u001B[1;33m(\u001B[0m\u001B[0mitems\u001B[0m\u001B[1;33m,\u001B[0m \u001B[0mnames\u001B[0m\u001B[1;33m=\u001B[0m\u001B[0mself\u001B[0m\u001B[1;33m.\u001B[0m\u001B[0mnames\u001B[0m\u001B[1;33m)\u001B[0m\u001B[1;33m\u001B[0m\u001B[1;33m\u001B[0m\u001B[0m\n\u001B[0;32m   5545\u001B[0m         \u001B[1;32melse\u001B[0m\u001B[1;33m:\u001B[0m\u001B[1;33m\u001B[0m\u001B[1;33m\u001B[0m\u001B[0m\n\u001B[1;32m-> 5546\u001B[1;33m             \u001B[0mitems\u001B[0m \u001B[1;33m=\u001B[0m \u001B[1;33m[\u001B[0m\u001B[0mfunc\u001B[0m\u001B[1;33m(\u001B[0m\u001B[0mx\u001B[0m\u001B[1;33m)\u001B[0m \u001B[1;32mfor\u001B[0m \u001B[0mx\u001B[0m \u001B[1;32min\u001B[0m \u001B[0mself\u001B[0m\u001B[1;33m]\u001B[0m\u001B[1;33m\u001B[0m\u001B[1;33m\u001B[0m\u001B[0m\n\u001B[0m\u001B[0;32m   5547\u001B[0m             \u001B[1;32mreturn\u001B[0m \u001B[0mIndex\u001B[0m\u001B[1;33m(\u001B[0m\u001B[0mitems\u001B[0m\u001B[1;33m,\u001B[0m \u001B[0mname\u001B[0m\u001B[1;33m=\u001B[0m\u001B[0mself\u001B[0m\u001B[1;33m.\u001B[0m\u001B[0mname\u001B[0m\u001B[1;33m,\u001B[0m \u001B[0mtupleize_cols\u001B[0m\u001B[1;33m=\u001B[0m\u001B[1;32mFalse\u001B[0m\u001B[1;33m)\u001B[0m\u001B[1;33m\u001B[0m\u001B[1;33m\u001B[0m\u001B[0m\n\u001B[0;32m   5548\u001B[0m \u001B[1;33m\u001B[0m\u001B[0m\n",
      "\u001B[1;31mTypeError\u001B[0m: 'PeriodIndex' object is not callable"
     ]
    }
   ],
   "source": [
    "ds_1 = ds_1.rename(columns= x, inplace = False)"
   ]
  },
  {
   "cell_type": "code",
   "execution_count": null,
   "metadata": {},
   "outputs": [],
   "source": [
    "profile = ProfileReport(ds_1,title=\"Pandas Profiling Report\")\n",
    "profile"
   ]
  },
  {
   "cell_type": "code",
   "execution_count": null,
   "metadata": {},
   "outputs": [],
   "source": [
    "profile.to_file(\"C:\\\\Users\\\\Moditha\\\\Desktop\\\\your_report.html\")"
   ]
  },
  {
   "cell_type": "code",
   "execution_count": null,
   "metadata": {},
   "outputs": [],
   "source": [
    "ds_1.to_csv(\"C:\\\\Users\\\\Moditha\\\\Desktop\\\\Arrivals_Data.csv\", index=False)"
   ]
  },
  {
   "cell_type": "code",
   "execution_count": null,
   "metadata": {},
   "outputs": [],
   "source": [
    "ds_1.to_json(\"C:\\\\Users\\\\Moditha\\\\Desktop\\\\Arrivals_Data.json\",orient='records')"
   ]
  },
  {
   "cell_type": "code",
   "execution_count": null,
   "metadata": {},
   "outputs": [],
   "source": [
    "ds_1.shape"
   ]
  },
  {
   "cell_type": "code",
   "execution_count": null,
   "metadata": {},
   "outputs": [],
   "source": [
    "ds_1.info()"
   ]
  },
  {
   "cell_type": "code",
   "execution_count": null,
   "metadata": {},
   "outputs": [],
   "source": [
    "for col in ds_1.columns:\n",
    "    print(col)"
   ]
  },
  {
   "cell_type": "code",
   "execution_count": null,
   "metadata": {},
   "outputs": [],
   "source": [
    "for col in ds_1.columns:\n",
    "    x = ds_1[col].dtype\n",
    "    print(x)"
   ]
  },
  {
   "cell_type": "code",
   "execution_count": null,
   "metadata": {},
   "outputs": [],
   "source": [
    "for col in ds_1.columns:\n",
    "    x = ds_1[col].count()\n",
    "    print(x)"
   ]
  },
  {
   "cell_type": "code",
   "execution_count": null,
   "metadata": {},
   "outputs": [],
   "source": [
    "for col in ds_1[ds_1.columns.drop(labels=[\"SACC code(a)\", \"Country of citizenship(a)\"])]:\n",
    "    x = ds_1[col].min()\n",
    "    print(x)"
   ]
  },
  {
   "cell_type": "code",
   "execution_count": null,
   "metadata": {},
   "outputs": [],
   "source": [
    "for col in ds_1[ds_1.columns.drop(labels=[\"SACC code(a)\", \"Country of citizenship(a)\"])]:\n",
    "    x = ds_1[col].max()\n",
    "    print(x)"
   ]
  },
  {
   "cell_type": "code",
   "execution_count": null,
   "metadata": {},
   "outputs": [],
   "source": [
    "for col in ds_1[ds_1.columns]:\n",
    "    x = ds_1[col].nunique()\n",
    "    print(x)"
   ]
  },
  {
   "cell_type": "code",
   "execution_count": null,
   "metadata": {},
   "outputs": [],
   "source": [
    "for col in ds_1[ds_1.columns]:\n",
    "    x = ds_1[col].isnull().sum()\n",
    "    print(x)"
   ]
  },
  {
   "cell_type": "code",
   "execution_count": null,
   "metadata": {},
   "outputs": [],
   "source": [
    "import datetime"
   ]
  },
  {
   "cell_type": "code",
   "execution_count": null,
   "metadata": {},
   "outputs": [],
   "source": [
    "fig = px.scatter(ds_1, x=datetime.datetime(2016, 9, 1, 0, 0), y=datetime.datetime(2017, 1, 1, 0, 0))\n",
    "fig.show()"
   ]
  },
  {
   "cell_type": "code",
   "execution_count": null,
   "metadata": {},
   "outputs": [],
   "source": []
  },
  {
   "cell_type": "code",
   "execution_count": null,
   "metadata": {},
   "outputs": [],
   "source": []
  }
 ],
 "metadata": {
  "kernelspec": {
   "display_name": "Python 3 (ipykernel)",
   "language": "python",
   "name": "python3"
  },
  "language_info": {
   "codemirror_mode": {
    "name": "ipython",
    "version": 3
   },
   "file_extension": ".py",
   "mimetype": "text/x-python",
   "name": "python",
   "nbconvert_exporter": "python",
   "pygments_lexer": "ipython3",
   "version": "3.9.6"
  }
 },
 "nbformat": 4,
 "nbformat_minor": 4
}